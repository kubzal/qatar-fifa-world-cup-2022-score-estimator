{
 "cells": [
  {
   "cell_type": "code",
   "execution_count": 1,
   "id": "b4c5bc65",
   "metadata": {},
   "outputs": [
    {
     "data": {
      "text/html": [
       "<style>.container { width:80% !important; }</style>"
      ],
      "text/plain": [
       "<IPython.core.display.HTML object>"
      ]
     },
     "metadata": {},
     "output_type": "display_data"
    }
   ],
   "source": [
    "from IPython.display import display, HTML\n",
    "\n",
    "display(HTML(\"<style>.container { width:80% !important; }</style>\"))"
   ]
  },
  {
   "cell_type": "code",
   "execution_count": 2,
   "id": "4316df25",
   "metadata": {},
   "outputs": [],
   "source": [
    "import pandas as pd"
   ]
  },
  {
   "cell_type": "code",
   "execution_count": 3,
   "id": "73164090",
   "metadata": {},
   "outputs": [],
   "source": [
    "pd.set_option(\"display.max_columns\", 500)"
   ]
  },
  {
   "cell_type": "code",
   "execution_count": 4,
   "id": "89bafb9d",
   "metadata": {},
   "outputs": [
    {
     "data": {
      "application/javascript": [
       "\n",
       "            setTimeout(function() {\n",
       "                var nbb_cell_id = 4;\n",
       "                var nbb_unformatted_code = \"%load_ext nb_black\";\n",
       "                var nbb_formatted_code = \"%load_ext nb_black\";\n",
       "                var nbb_cells = Jupyter.notebook.get_cells();\n",
       "                for (var i = 0; i < nbb_cells.length; ++i) {\n",
       "                    if (nbb_cells[i].input_prompt_number == nbb_cell_id) {\n",
       "                        if (nbb_cells[i].get_text() == nbb_unformatted_code) {\n",
       "                             nbb_cells[i].set_text(nbb_formatted_code);\n",
       "                        }\n",
       "                        break;\n",
       "                    }\n",
       "                }\n",
       "            }, 500);\n",
       "            "
      ],
      "text/plain": [
       "<IPython.core.display.Javascript object>"
      ]
     },
     "metadata": {},
     "output_type": "display_data"
    }
   ],
   "source": [
    "%load_ext nb_black"
   ]
  },
  {
   "cell_type": "code",
   "execution_count": 5,
   "id": "2dd8c1ea",
   "metadata": {},
   "outputs": [
    {
     "data": {
      "application/javascript": [
       "\n",
       "            setTimeout(function() {\n",
       "                var nbb_cell_id = 5;\n",
       "                var nbb_unformatted_code = \"rk = pd.read_csv(\\\"rk_fifa_2022_10_06.csv\\\", sep=\\\"\\\\t\\\")\";\n",
       "                var nbb_formatted_code = \"rk = pd.read_csv(\\\"rk_fifa_2022_10_06.csv\\\", sep=\\\"\\\\t\\\")\";\n",
       "                var nbb_cells = Jupyter.notebook.get_cells();\n",
       "                for (var i = 0; i < nbb_cells.length; ++i) {\n",
       "                    if (nbb_cells[i].input_prompt_number == nbb_cell_id) {\n",
       "                        if (nbb_cells[i].get_text() == nbb_unformatted_code) {\n",
       "                             nbb_cells[i].set_text(nbb_formatted_code);\n",
       "                        }\n",
       "                        break;\n",
       "                    }\n",
       "                }\n",
       "            }, 500);\n",
       "            "
      ],
      "text/plain": [
       "<IPython.core.display.Javascript object>"
      ]
     },
     "metadata": {},
     "output_type": "display_data"
    }
   ],
   "source": [
    "rk = pd.read_csv(\"rk_fifa_2022_10_06.csv\", sep=\"\\t\")"
   ]
  },
  {
   "cell_type": "code",
   "execution_count": 6,
   "id": "a5d7799a",
   "metadata": {},
   "outputs": [
    {
     "data": {
      "text/html": [
       "<div>\n",
       "<style scoped>\n",
       "    .dataframe tbody tr th:only-of-type {\n",
       "        vertical-align: middle;\n",
       "    }\n",
       "\n",
       "    .dataframe tbody tr th {\n",
       "        vertical-align: top;\n",
       "    }\n",
       "\n",
       "    .dataframe thead th {\n",
       "        text-align: right;\n",
       "    }\n",
       "</style>\n",
       "<table border=\"1\" class=\"dataframe\">\n",
       "  <thead>\n",
       "    <tr style=\"text-align: right;\">\n",
       "      <th></th>\n",
       "      <th>RK</th>\n",
       "      <th>Team</th>\n",
       "      <th>Total Points</th>\n",
       "      <th>Previous Points</th>\n",
       "    </tr>\n",
       "  </thead>\n",
       "  <tbody>\n",
       "    <tr>\n",
       "      <th>0</th>\n",
       "      <td>1</td>\n",
       "      <td>Brazil</td>\n",
       "      <td>1841.30</td>\n",
       "      <td>1837.56</td>\n",
       "    </tr>\n",
       "    <tr>\n",
       "      <th>1</th>\n",
       "      <td>2</td>\n",
       "      <td>Belgium</td>\n",
       "      <td>1816.71</td>\n",
       "      <td>1821.92</td>\n",
       "    </tr>\n",
       "    <tr>\n",
       "      <th>2</th>\n",
       "      <td>3</td>\n",
       "      <td>Argentina</td>\n",
       "      <td>1773.88</td>\n",
       "      <td>1770.65</td>\n",
       "    </tr>\n",
       "    <tr>\n",
       "      <th>3</th>\n",
       "      <td>4</td>\n",
       "      <td>France</td>\n",
       "      <td>1759.78</td>\n",
       "      <td>1764.85</td>\n",
       "    </tr>\n",
       "    <tr>\n",
       "      <th>4</th>\n",
       "      <td>5</td>\n",
       "      <td>England</td>\n",
       "      <td>1728.47</td>\n",
       "      <td>1737.46</td>\n",
       "    </tr>\n",
       "  </tbody>\n",
       "</table>\n",
       "</div>"
      ],
      "text/plain": [
       "   RK       Team  Total Points  Previous Points\n",
       "0   1     Brazil       1841.30          1837.56\n",
       "1   2    Belgium       1816.71          1821.92\n",
       "2   3  Argentina       1773.88          1770.65\n",
       "3   4     France       1759.78          1764.85\n",
       "4   5    England       1728.47          1737.46"
      ]
     },
     "execution_count": 6,
     "metadata": {},
     "output_type": "execute_result"
    },
    {
     "data": {
      "application/javascript": [
       "\n",
       "            setTimeout(function() {\n",
       "                var nbb_cell_id = 6;\n",
       "                var nbb_unformatted_code = \"rk.head()\";\n",
       "                var nbb_formatted_code = \"rk.head()\";\n",
       "                var nbb_cells = Jupyter.notebook.get_cells();\n",
       "                for (var i = 0; i < nbb_cells.length; ++i) {\n",
       "                    if (nbb_cells[i].input_prompt_number == nbb_cell_id) {\n",
       "                        if (nbb_cells[i].get_text() == nbb_unformatted_code) {\n",
       "                             nbb_cells[i].set_text(nbb_formatted_code);\n",
       "                        }\n",
       "                        break;\n",
       "                    }\n",
       "                }\n",
       "            }, 500);\n",
       "            "
      ],
      "text/plain": [
       "<IPython.core.display.Javascript object>"
      ]
     },
     "metadata": {},
     "output_type": "display_data"
    }
   ],
   "source": [
    "rk.head()"
   ]
  },
  {
   "cell_type": "code",
   "execution_count": 7,
   "id": "0f6d1ebf",
   "metadata": {},
   "outputs": [
    {
     "data": {
      "text/html": [
       "<div>\n",
       "<style scoped>\n",
       "    .dataframe tbody tr th:only-of-type {\n",
       "        vertical-align: middle;\n",
       "    }\n",
       "\n",
       "    .dataframe tbody tr th {\n",
       "        vertical-align: top;\n",
       "    }\n",
       "\n",
       "    .dataframe thead th {\n",
       "        text-align: right;\n",
       "    }\n",
       "</style>\n",
       "<table border=\"1\" class=\"dataframe\">\n",
       "  <thead>\n",
       "    <tr style=\"text-align: right;\">\n",
       "      <th></th>\n",
       "      <th>RK</th>\n",
       "      <th>Total Points</th>\n",
       "      <th>Previous Points</th>\n",
       "    </tr>\n",
       "  </thead>\n",
       "  <tbody>\n",
       "    <tr>\n",
       "      <th>count</th>\n",
       "      <td>211.00000</td>\n",
       "      <td>211.000000</td>\n",
       "      <td>211.000000</td>\n",
       "    </tr>\n",
       "    <tr>\n",
       "      <th>mean</th>\n",
       "      <td>106.00000</td>\n",
       "      <td>1220.687346</td>\n",
       "      <td>1220.645592</td>\n",
       "    </tr>\n",
       "    <tr>\n",
       "      <th>std</th>\n",
       "      <td>61.05462</td>\n",
       "      <td>253.420954</td>\n",
       "      <td>253.331712</td>\n",
       "    </tr>\n",
       "    <tr>\n",
       "      <th>min</th>\n",
       "      <td>1.00000</td>\n",
       "      <td>762.220000</td>\n",
       "      <td>763.820000</td>\n",
       "    </tr>\n",
       "    <tr>\n",
       "      <th>25%</th>\n",
       "      <td>53.50000</td>\n",
       "      <td>1007.675000</td>\n",
       "      <td>1008.330000</td>\n",
       "    </tr>\n",
       "    <tr>\n",
       "      <th>50%</th>\n",
       "      <td>106.00000</td>\n",
       "      <td>1192.090000</td>\n",
       "      <td>1183.900000</td>\n",
       "    </tr>\n",
       "    <tr>\n",
       "      <th>75%</th>\n",
       "      <td>158.50000</td>\n",
       "      <td>1433.465000</td>\n",
       "      <td>1431.790000</td>\n",
       "    </tr>\n",
       "    <tr>\n",
       "      <th>max</th>\n",
       "      <td>211.00000</td>\n",
       "      <td>1841.300000</td>\n",
       "      <td>1837.560000</td>\n",
       "    </tr>\n",
       "  </tbody>\n",
       "</table>\n",
       "</div>"
      ],
      "text/plain": [
       "              RK  Total Points  Previous Points\n",
       "count  211.00000    211.000000       211.000000\n",
       "mean   106.00000   1220.687346      1220.645592\n",
       "std     61.05462    253.420954       253.331712\n",
       "min      1.00000    762.220000       763.820000\n",
       "25%     53.50000   1007.675000      1008.330000\n",
       "50%    106.00000   1192.090000      1183.900000\n",
       "75%    158.50000   1433.465000      1431.790000\n",
       "max    211.00000   1841.300000      1837.560000"
      ]
     },
     "execution_count": 7,
     "metadata": {},
     "output_type": "execute_result"
    },
    {
     "data": {
      "application/javascript": [
       "\n",
       "            setTimeout(function() {\n",
       "                var nbb_cell_id = 7;\n",
       "                var nbb_unformatted_code = \"rk.describe()\";\n",
       "                var nbb_formatted_code = \"rk.describe()\";\n",
       "                var nbb_cells = Jupyter.notebook.get_cells();\n",
       "                for (var i = 0; i < nbb_cells.length; ++i) {\n",
       "                    if (nbb_cells[i].input_prompt_number == nbb_cell_id) {\n",
       "                        if (nbb_cells[i].get_text() == nbb_unformatted_code) {\n",
       "                             nbb_cells[i].set_text(nbb_formatted_code);\n",
       "                        }\n",
       "                        break;\n",
       "                    }\n",
       "                }\n",
       "            }, 500);\n",
       "            "
      ],
      "text/plain": [
       "<IPython.core.display.Javascript object>"
      ]
     },
     "metadata": {},
     "output_type": "display_data"
    }
   ],
   "source": [
    "rk.describe()"
   ]
  },
  {
   "cell_type": "code",
   "execution_count": 8,
   "id": "c13a0b03",
   "metadata": {},
   "outputs": [
    {
     "data": {
      "application/javascript": [
       "\n",
       "            setTimeout(function() {\n",
       "                var nbb_cell_id = 8;\n",
       "                var nbb_unformatted_code = \"def get_rk(team=\\\"\\\"):\\n    try:\\n        return int(rk.loc[rk[\\\"Team\\\"] == team][\\\"RK\\\"])\\n    except TypeError:\\n        print(\\\"get_rk(): Team not found\\\")\";\n",
       "                var nbb_formatted_code = \"def get_rk(team=\\\"\\\"):\\n    try:\\n        return int(rk.loc[rk[\\\"Team\\\"] == team][\\\"RK\\\"])\\n    except TypeError:\\n        print(\\\"get_rk(): Team not found\\\")\";\n",
       "                var nbb_cells = Jupyter.notebook.get_cells();\n",
       "                for (var i = 0; i < nbb_cells.length; ++i) {\n",
       "                    if (nbb_cells[i].input_prompt_number == nbb_cell_id) {\n",
       "                        if (nbb_cells[i].get_text() == nbb_unformatted_code) {\n",
       "                             nbb_cells[i].set_text(nbb_formatted_code);\n",
       "                        }\n",
       "                        break;\n",
       "                    }\n",
       "                }\n",
       "            }, 500);\n",
       "            "
      ],
      "text/plain": [
       "<IPython.core.display.Javascript object>"
      ]
     },
     "metadata": {},
     "output_type": "display_data"
    }
   ],
   "source": [
    "def get_rk(team=\"\"):\n",
    "    try:\n",
    "        return int(rk.loc[rk[\"Team\"] == team][\"RK\"])\n",
    "    except TypeError:\n",
    "        print(\"get_rk(): Team not found\")"
   ]
  },
  {
   "cell_type": "code",
   "execution_count": 9,
   "id": "7892e0ca",
   "metadata": {},
   "outputs": [
    {
     "data": {
      "application/javascript": [
       "\n",
       "            setTimeout(function() {\n",
       "                var nbb_cell_id = 9;\n",
       "                var nbb_unformatted_code = \"def get_points(team=\\\"\\\", previous=False):\\n    try:\\n        if previous:\\n            return float(rk.loc[rk[\\\"Team\\\"] == team][\\\"Total Points\\\"])\\n        else:\\n            return float(rk.loc[rk[\\\"Team\\\"] == team][\\\"Previous Points\\\"])\\n    except TypeError:\\n        print(\\\"get_points(): Team not found\\\")\";\n",
       "                var nbb_formatted_code = \"def get_points(team=\\\"\\\", previous=False):\\n    try:\\n        if previous:\\n            return float(rk.loc[rk[\\\"Team\\\"] == team][\\\"Total Points\\\"])\\n        else:\\n            return float(rk.loc[rk[\\\"Team\\\"] == team][\\\"Previous Points\\\"])\\n    except TypeError:\\n        print(\\\"get_points(): Team not found\\\")\";\n",
       "                var nbb_cells = Jupyter.notebook.get_cells();\n",
       "                for (var i = 0; i < nbb_cells.length; ++i) {\n",
       "                    if (nbb_cells[i].input_prompt_number == nbb_cell_id) {\n",
       "                        if (nbb_cells[i].get_text() == nbb_unformatted_code) {\n",
       "                             nbb_cells[i].set_text(nbb_formatted_code);\n",
       "                        }\n",
       "                        break;\n",
       "                    }\n",
       "                }\n",
       "            }, 500);\n",
       "            "
      ],
      "text/plain": [
       "<IPython.core.display.Javascript object>"
      ]
     },
     "metadata": {},
     "output_type": "display_data"
    }
   ],
   "source": [
    "def get_points(team=\"\", previous=False):\n",
    "    try:\n",
    "        if previous:\n",
    "            return float(rk.loc[rk[\"Team\"] == team][\"Total Points\"])\n",
    "        else:\n",
    "            return float(rk.loc[rk[\"Team\"] == team][\"Previous Points\"])\n",
    "    except TypeError:\n",
    "        print(\"get_points(): Team not found\")"
   ]
  },
  {
   "cell_type": "code",
   "execution_count": 10,
   "id": "3d0f0b73",
   "metadata": {},
   "outputs": [
    {
     "data": {
      "application/javascript": [
       "\n",
       "            setTimeout(function() {\n",
       "                var nbb_cell_id = 10;\n",
       "                var nbb_unformatted_code = \"def get_probability_of_win(team=\\\"\\\"):\\n    ## Probability of defeat any team\\n    # There are ([number of teams] - [RK]) teams that are likely to defeat\\n    p_any = 1 - get_rk(team) / len(rk)\\n\\n    ## Points increase\\n    increase = get_points(team) / get_points(team, previous=True)\\n\\n    ## Combined\\n    p = p_any * increase\\n\\n    return p\";\n",
       "                var nbb_formatted_code = \"def get_probability_of_win(team=\\\"\\\"):\\n    ## Probability of defeat any team\\n    # There are ([number of teams] - [RK]) teams that are likely to defeat\\n    p_any = 1 - get_rk(team) / len(rk)\\n\\n    ## Points increase\\n    increase = get_points(team) / get_points(team, previous=True)\\n\\n    ## Combined\\n    p = p_any * increase\\n\\n    return p\";\n",
       "                var nbb_cells = Jupyter.notebook.get_cells();\n",
       "                for (var i = 0; i < nbb_cells.length; ++i) {\n",
       "                    if (nbb_cells[i].input_prompt_number == nbb_cell_id) {\n",
       "                        if (nbb_cells[i].get_text() == nbb_unformatted_code) {\n",
       "                             nbb_cells[i].set_text(nbb_formatted_code);\n",
       "                        }\n",
       "                        break;\n",
       "                    }\n",
       "                }\n",
       "            }, 500);\n",
       "            "
      ],
      "text/plain": [
       "<IPython.core.display.Javascript object>"
      ]
     },
     "metadata": {},
     "output_type": "display_data"
    }
   ],
   "source": [
    "def get_probability_of_win(team=\"\"):\n",
    "    ## Probability of defeat any team\n",
    "    # There are ([number of teams] - [RK]) teams that are likely to defeat\n",
    "    p_any = 1 - get_rk(team) / len(rk)\n",
    "\n",
    "    ## Points increase\n",
    "    increase = get_points(team) / get_points(team, previous=True)\n",
    "\n",
    "    ## Combined\n",
    "    p = p_any * increase\n",
    "\n",
    "    return p"
   ]
  },
  {
   "cell_type": "code",
   "execution_count": 11,
   "id": "8cfd02ee",
   "metadata": {},
   "outputs": [
    {
     "data": {
      "application/javascript": [
       "\n",
       "            setTimeout(function() {\n",
       "                var nbb_cell_id = 11;\n",
       "                var nbb_unformatted_code = \"def how_many_goals(team=\\\"\\\"):\\n    goals = 0\\n\\n    if get_rk(team) <= 10:\\n        goals = 3\\n    elif get_rk(team) > 10 and get_rk(team) <= 20:\\n        goals = 2\\n    elif get_rk(team) > 20 and get_rk(team) <= 30:\\n        goals = 1\\n    else:\\n        goals = 0\\n\\n    return goals\";\n",
       "                var nbb_formatted_code = \"def how_many_goals(team=\\\"\\\"):\\n    goals = 0\\n\\n    if get_rk(team) <= 10:\\n        goals = 3\\n    elif get_rk(team) > 10 and get_rk(team) <= 20:\\n        goals = 2\\n    elif get_rk(team) > 20 and get_rk(team) <= 30:\\n        goals = 1\\n    else:\\n        goals = 0\\n\\n    return goals\";\n",
       "                var nbb_cells = Jupyter.notebook.get_cells();\n",
       "                for (var i = 0; i < nbb_cells.length; ++i) {\n",
       "                    if (nbb_cells[i].input_prompt_number == nbb_cell_id) {\n",
       "                        if (nbb_cells[i].get_text() == nbb_unformatted_code) {\n",
       "                             nbb_cells[i].set_text(nbb_formatted_code);\n",
       "                        }\n",
       "                        break;\n",
       "                    }\n",
       "                }\n",
       "            }, 500);\n",
       "            "
      ],
      "text/plain": [
       "<IPython.core.display.Javascript object>"
      ]
     },
     "metadata": {},
     "output_type": "display_data"
    }
   ],
   "source": [
    "def how_many_goals(team=\"\"):\n",
    "    goals = 0\n",
    "\n",
    "    if get_rk(team) <= 10:\n",
    "        goals = 3\n",
    "    elif get_rk(team) > 10 and get_rk(team) <= 20:\n",
    "        goals = 2\n",
    "    elif get_rk(team) > 20 and get_rk(team) <= 30:\n",
    "        goals = 1\n",
    "    else:\n",
    "        goals = 0\n",
    "\n",
    "    return goals"
   ]
  },
  {
   "cell_type": "code",
   "execution_count": 12,
   "id": "1e266c9d",
   "metadata": {},
   "outputs": [
    {
     "data": {
      "application/javascript": [
       "\n",
       "            setTimeout(function() {\n",
       "                var nbb_cell_id = 12;\n",
       "                var nbb_unformatted_code = \"def estimate_result(team_1=\\\"\\\", team_2=\\\"\\\"):\\n    # Probability of win\\n    p_team_1 = get_probability_of_win(team_1)\\n    p_team_2 = get_probability_of_win(team_2)\\n\\n    print(\\n        f\\\"Team 1: {team_1} [RK: {get_rk(team_1)}, Points: {get_points(team_1)}], probability of win: {p_team_1}\\\"\\n    )\\n    print(\\n        f\\\"Team 2: {team_2} [RK: {get_rk(team_2)}, Points: {get_points(team_2)}], probability of win: {p_team_2}\\\"\\n    )\\n\\n    # Difference\\n    diff = abs(p_team_1 - p_team_2)\\n    print(f\\\"Diff: {diff}\\\")\\n\\n    # How many goals?\\n    team_1_goals = how_many_goals(team_1)\\n    team_2_goals = how_many_goals(team_2)\\n\\n    plus_minus_winner_goals = 0\\n    plus_minus_loser_goals = 0\\n\\n    if min(p_team_1, p_team_2) > 0.87:\\n        if diff <= 0.05:\\n            plus_minus_winner_goals = -2\\n            plus_minus_loser_goals = -2\\n        elif diff > 0.05 and diff <= 0.1:\\n            plus_minus_winner_goals = -1\\n            plus_minus_loser_goals = -1\\n        elif diff > 0.1 and diff <= 0.15:\\n            plus_minus_winner_goals = 0\\n            plus_minus_loser_goals = -2\\n        elif diff > 0.15:\\n            plus_minus_winner_goals = 1\\n            plus_minus_loser_goals = -3\\n    else:\\n        if diff <= 0.05:\\n            plus_minus_winner_goals = 0\\n            plus_minus_loser_goals = 0\\n        elif diff > 0.05 and diff <= 0.1:\\n            plus_minus_winner_goals = 1\\n            plus_minus_loser_goals = 0\\n        elif diff > 0.1 and diff <= 0.15:\\n            plus_minus_winner_goals = 1\\n            plus_minus_loser_goals = -1\\n        elif diff > 0.15:\\n            plus_minus_winner_goals = 2\\n            plus_minus_loser_goals = -1\\n\\n    # Winner / Loser\\n    if p_team_1 > p_team_2:\\n        # winner team_1\\n        team_1_goals = team_1_goals + plus_minus_winner_goals\\n        team_2_goals = team_2_goals + plus_minus_loser_goals\\n\\n    elif p_team_1 < p_team_2:\\n        # winner team_2\\n        team_2_goals = team_2_goals + plus_minus_winner_goals\\n        team_1_goals = team_1_goals + plus_minus_loser_goals\\n\\n    else:\\n        team_1_goals = team_1_goals + 0\\n        team_2_goals = team_2_goals + 0\\n\\n    if team_1_goals < 0:\\n        team_1_goals = 0\\n\\n    if team_2_goals < 0:\\n        team_2_goals = 0\\n\\n    print(f\\\"Match result: {team_1} {team_1_goals}-{team_2_goals} {team_2}\\\")\";\n",
       "                var nbb_formatted_code = \"def estimate_result(team_1=\\\"\\\", team_2=\\\"\\\"):\\n    # Probability of win\\n    p_team_1 = get_probability_of_win(team_1)\\n    p_team_2 = get_probability_of_win(team_2)\\n\\n    print(\\n        f\\\"Team 1: {team_1} [RK: {get_rk(team_1)}, Points: {get_points(team_1)}], probability of win: {p_team_1}\\\"\\n    )\\n    print(\\n        f\\\"Team 2: {team_2} [RK: {get_rk(team_2)}, Points: {get_points(team_2)}], probability of win: {p_team_2}\\\"\\n    )\\n\\n    # Difference\\n    diff = abs(p_team_1 - p_team_2)\\n    print(f\\\"Diff: {diff}\\\")\\n\\n    # How many goals?\\n    team_1_goals = how_many_goals(team_1)\\n    team_2_goals = how_many_goals(team_2)\\n\\n    plus_minus_winner_goals = 0\\n    plus_minus_loser_goals = 0\\n\\n    if min(p_team_1, p_team_2) > 0.87:\\n        if diff <= 0.05:\\n            plus_minus_winner_goals = -2\\n            plus_minus_loser_goals = -2\\n        elif diff > 0.05 and diff <= 0.1:\\n            plus_minus_winner_goals = -1\\n            plus_minus_loser_goals = -1\\n        elif diff > 0.1 and diff <= 0.15:\\n            plus_minus_winner_goals = 0\\n            plus_minus_loser_goals = -2\\n        elif diff > 0.15:\\n            plus_minus_winner_goals = 1\\n            plus_minus_loser_goals = -3\\n    else:\\n        if diff <= 0.05:\\n            plus_minus_winner_goals = 0\\n            plus_minus_loser_goals = 0\\n        elif diff > 0.05 and diff <= 0.1:\\n            plus_minus_winner_goals = 1\\n            plus_minus_loser_goals = 0\\n        elif diff > 0.1 and diff <= 0.15:\\n            plus_minus_winner_goals = 1\\n            plus_minus_loser_goals = -1\\n        elif diff > 0.15:\\n            plus_minus_winner_goals = 2\\n            plus_minus_loser_goals = -1\\n\\n    # Winner / Loser\\n    if p_team_1 > p_team_2:\\n        # winner team_1\\n        team_1_goals = team_1_goals + plus_minus_winner_goals\\n        team_2_goals = team_2_goals + plus_minus_loser_goals\\n\\n    elif p_team_1 < p_team_2:\\n        # winner team_2\\n        team_2_goals = team_2_goals + plus_minus_winner_goals\\n        team_1_goals = team_1_goals + plus_minus_loser_goals\\n\\n    else:\\n        team_1_goals = team_1_goals + 0\\n        team_2_goals = team_2_goals + 0\\n\\n    if team_1_goals < 0:\\n        team_1_goals = 0\\n\\n    if team_2_goals < 0:\\n        team_2_goals = 0\\n\\n    print(f\\\"Match result: {team_1} {team_1_goals}-{team_2_goals} {team_2}\\\")\";\n",
       "                var nbb_cells = Jupyter.notebook.get_cells();\n",
       "                for (var i = 0; i < nbb_cells.length; ++i) {\n",
       "                    if (nbb_cells[i].input_prompt_number == nbb_cell_id) {\n",
       "                        if (nbb_cells[i].get_text() == nbb_unformatted_code) {\n",
       "                             nbb_cells[i].set_text(nbb_formatted_code);\n",
       "                        }\n",
       "                        break;\n",
       "                    }\n",
       "                }\n",
       "            }, 500);\n",
       "            "
      ],
      "text/plain": [
       "<IPython.core.display.Javascript object>"
      ]
     },
     "metadata": {},
     "output_type": "display_data"
    }
   ],
   "source": [
    "def estimate_result(team_1=\"\", team_2=\"\"):\n",
    "    # Probability of win\n",
    "    p_team_1 = get_probability_of_win(team_1)\n",
    "    p_team_2 = get_probability_of_win(team_2)\n",
    "\n",
    "    print(\n",
    "        f\"Team 1: {team_1} [RK: {get_rk(team_1)}, Points: {get_points(team_1)}], probability of win: {p_team_1}\"\n",
    "    )\n",
    "    print(\n",
    "        f\"Team 2: {team_2} [RK: {get_rk(team_2)}, Points: {get_points(team_2)}], probability of win: {p_team_2}\"\n",
    "    )\n",
    "\n",
    "    # Difference\n",
    "    diff = abs(p_team_1 - p_team_2)\n",
    "    print(f\"Diff: {diff}\")\n",
    "\n",
    "    # How many goals?\n",
    "    team_1_goals = how_many_goals(team_1)\n",
    "    team_2_goals = how_many_goals(team_2)\n",
    "\n",
    "    plus_minus_winner_goals = 0\n",
    "    plus_minus_loser_goals = 0\n",
    "\n",
    "    if min(p_team_1, p_team_2) > 0.87:\n",
    "        if diff <= 0.05:\n",
    "            plus_minus_winner_goals = -2\n",
    "            plus_minus_loser_goals = -2\n",
    "        elif diff > 0.05 and diff <= 0.1:\n",
    "            plus_minus_winner_goals = -1\n",
    "            plus_minus_loser_goals = -1\n",
    "        elif diff > 0.1 and diff <= 0.15:\n",
    "            plus_minus_winner_goals = 0\n",
    "            plus_minus_loser_goals = -2\n",
    "        elif diff > 0.15:\n",
    "            plus_minus_winner_goals = 1\n",
    "            plus_minus_loser_goals = -3\n",
    "    else:\n",
    "        if diff <= 0.05:\n",
    "            plus_minus_winner_goals = 0\n",
    "            plus_minus_loser_goals = 0\n",
    "        elif diff > 0.05 and diff <= 0.1:\n",
    "            plus_minus_winner_goals = 1\n",
    "            plus_minus_loser_goals = 0\n",
    "        elif diff > 0.1 and diff <= 0.15:\n",
    "            plus_minus_winner_goals = 1\n",
    "            plus_minus_loser_goals = -1\n",
    "        elif diff > 0.15:\n",
    "            plus_minus_winner_goals = 2\n",
    "            plus_minus_loser_goals = -1\n",
    "\n",
    "    # Winner / Loser\n",
    "    if p_team_1 > p_team_2:\n",
    "        # winner team_1\n",
    "        team_1_goals = team_1_goals + plus_minus_winner_goals\n",
    "        team_2_goals = team_2_goals + plus_minus_loser_goals\n",
    "\n",
    "    elif p_team_1 < p_team_2:\n",
    "        # winner team_2\n",
    "        team_2_goals = team_2_goals + plus_minus_winner_goals\n",
    "        team_1_goals = team_1_goals + plus_minus_loser_goals\n",
    "\n",
    "    else:\n",
    "        team_1_goals = team_1_goals + 0\n",
    "        team_2_goals = team_2_goals + 0\n",
    "\n",
    "    if team_1_goals < 0:\n",
    "        team_1_goals = 0\n",
    "\n",
    "    if team_2_goals < 0:\n",
    "        team_2_goals = 0\n",
    "\n",
    "    print(f\"Match result: {team_1} {team_1_goals}-{team_2_goals} {team_2}\")"
   ]
  },
  {
   "cell_type": "code",
   "execution_count": 13,
   "id": "2ba05186",
   "metadata": {},
   "outputs": [
    {
     "name": "stdout",
     "output_type": "stream",
     "text": [
      "Team 1: Poland [RK: 26, Points: 1546.18], probability of win: 0.8754127627305917\n",
      "Team 2: Mexico [RK: 13, Points: 1649.57], probability of win: 0.9410585055040054\n",
      "Diff: 0.06564574277341373\n",
      "Match result: Poland 0-1 Mexico\n"
     ]
    },
    {
     "data": {
      "application/javascript": [
       "\n",
       "            setTimeout(function() {\n",
       "                var nbb_cell_id = 13;\n",
       "                var nbb_unformatted_code = \"estimate_result(\\\"Poland\\\", \\\"Mexico\\\")\";\n",
       "                var nbb_formatted_code = \"estimate_result(\\\"Poland\\\", \\\"Mexico\\\")\";\n",
       "                var nbb_cells = Jupyter.notebook.get_cells();\n",
       "                for (var i = 0; i < nbb_cells.length; ++i) {\n",
       "                    if (nbb_cells[i].input_prompt_number == nbb_cell_id) {\n",
       "                        if (nbb_cells[i].get_text() == nbb_unformatted_code) {\n",
       "                             nbb_cells[i].set_text(nbb_formatted_code);\n",
       "                        }\n",
       "                        break;\n",
       "                    }\n",
       "                }\n",
       "            }, 500);\n",
       "            "
      ],
      "text/plain": [
       "<IPython.core.display.Javascript object>"
      ]
     },
     "metadata": {},
     "output_type": "display_data"
    }
   ],
   "source": [
    "estimate_result(\"Poland\", \"Mexico\")"
   ]
  },
  {
   "cell_type": "code",
   "execution_count": 14,
   "id": "7334d90a",
   "metadata": {},
   "outputs": [
    {
     "name": "stdout",
     "output_type": "stream",
     "text": [
      "Team 1: Poland [RK: 26, Points: 1546.18], probability of win: 0.8754127627305917\n",
      "Team 2: Saudi Arabia [RK: 51, Points: 1435.74], probability of win: 0.7572179305655462\n",
      "Diff: 0.11819483216504545\n",
      "Match result: Poland 2-0 Saudi Arabia\n"
     ]
    },
    {
     "data": {
      "application/javascript": [
       "\n",
       "            setTimeout(function() {\n",
       "                var nbb_cell_id = 14;\n",
       "                var nbb_unformatted_code = \"estimate_result(\\\"Poland\\\", \\\"Saudi Arabia\\\")\";\n",
       "                var nbb_formatted_code = \"estimate_result(\\\"Poland\\\", \\\"Saudi Arabia\\\")\";\n",
       "                var nbb_cells = Jupyter.notebook.get_cells();\n",
       "                for (var i = 0; i < nbb_cells.length; ++i) {\n",
       "                    if (nbb_cells[i].input_prompt_number == nbb_cell_id) {\n",
       "                        if (nbb_cells[i].get_text() == nbb_unformatted_code) {\n",
       "                             nbb_cells[i].set_text(nbb_formatted_code);\n",
       "                        }\n",
       "                        break;\n",
       "                    }\n",
       "                }\n",
       "            }, 500);\n",
       "            "
      ],
      "text/plain": [
       "<IPython.core.display.Javascript object>"
      ]
     },
     "metadata": {},
     "output_type": "display_data"
    }
   ],
   "source": [
    "estimate_result(\"Poland\", \"Saudi Arabia\")"
   ]
  },
  {
   "cell_type": "code",
   "execution_count": 15,
   "id": "6b473289",
   "metadata": {},
   "outputs": [
    {
     "name": "stdout",
     "output_type": "stream",
     "text": [
      "Team 1: Poland [RK: 26, Points: 1546.18], probability of win: 0.8754127627305917\n",
      "Team 2: Argentina [RK: 3, Points: 1770.65], probability of win: 0.9839870123777187\n",
      "Diff: 0.10857424964712703\n",
      "Match result: Poland 0-3 Argentina\n"
     ]
    },
    {
     "data": {
      "application/javascript": [
       "\n",
       "            setTimeout(function() {\n",
       "                var nbb_cell_id = 15;\n",
       "                var nbb_unformatted_code = \"estimate_result(\\\"Poland\\\", \\\"Argentina\\\")\";\n",
       "                var nbb_formatted_code = \"estimate_result(\\\"Poland\\\", \\\"Argentina\\\")\";\n",
       "                var nbb_cells = Jupyter.notebook.get_cells();\n",
       "                for (var i = 0; i < nbb_cells.length; ++i) {\n",
       "                    if (nbb_cells[i].input_prompt_number == nbb_cell_id) {\n",
       "                        if (nbb_cells[i].get_text() == nbb_unformatted_code) {\n",
       "                             nbb_cells[i].set_text(nbb_formatted_code);\n",
       "                        }\n",
       "                        break;\n",
       "                    }\n",
       "                }\n",
       "            }, 500);\n",
       "            "
      ],
      "text/plain": [
       "<IPython.core.display.Javascript object>"
      ]
     },
     "metadata": {},
     "output_type": "display_data"
    }
   ],
   "source": [
    "estimate_result(\"Poland\", \"Argentina\")"
   ]
  },
  {
   "cell_type": "code",
   "execution_count": null,
   "id": "5229ffc2",
   "metadata": {},
   "outputs": [],
   "source": []
  }
 ],
 "metadata": {
  "kernelspec": {
   "display_name": "Python 3 (ipykernel)",
   "language": "python",
   "name": "python3"
  },
  "language_info": {
   "codemirror_mode": {
    "name": "ipython",
    "version": 3
   },
   "file_extension": ".py",
   "mimetype": "text/x-python",
   "name": "python",
   "nbconvert_exporter": "python",
   "pygments_lexer": "ipython3",
   "version": "3.8.9"
  }
 },
 "nbformat": 4,
 "nbformat_minor": 5
}
